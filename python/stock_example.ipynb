{
 "cells": [
  {
   "cell_type": "markdown",
   "id": "e562e345-7622-434f-a455-c2d0007b6a79",
   "metadata": {},
   "source": [
    "Yahoo Example for calling and aPI\n",
    "Tutorial here --> https://financeapi.net/\n",
    "1. You will need to get your API key\n",
    "2. Examine the demo page and sample data to be returned\n"
   ]
  },
  {
   "cell_type": "code",
   "execution_count": 1,
   "id": "6152718e-e56a-40a3-80c5-29215b30f516",
   "metadata": {},
   "outputs": [],
   "source": [
    "import json\n",
    "import pandas as pd\n",
    "import json\n",
    "import requests"
   ]
  },
  {
   "cell_type": "code",
   "execution_count": 2,
   "id": "012e806b-0d60-4330-80d6-797881126d0f",
   "metadata": {},
   "outputs": [
    {
     "name": "stdin",
     "output_type": "stream",
     "text": [
      " orcl\n"
     ]
    }
   ],
   "source": [
    "#get stock from the user\n",
    "stock=input()\n"
   ]
  },
  {
   "cell_type": "code",
   "execution_count": 3,
   "id": "dbee80bb-960a-4349-a171-e410e80bcb42",
   "metadata": {},
   "outputs": [
    {
     "name": "stdout",
     "output_type": "stream",
     "text": [
      "The Stock we will research is:orcl\n"
     ]
    }
   ],
   "source": [
    "print(\"The Stock we will research is:\" + stock)"
   ]
  },
  {
   "cell_type": "code",
   "execution_count": 7,
   "id": "452f35c5-e29b-424e-9646-42c088d01ac8",
   "metadata": {},
   "outputs": [
    {
     "name": "stdout",
     "output_type": "stream",
     "text": [
      "{\"quoteResponse\":{\"result\":[{\"language\":\"en-US\",\"region\":\"US\",\"quoteType\":\"EQUITY\",\"typeDisp\":\"Equity\",\"quoteSourceName\":\"Nasdaq Real Time Price\",\"triggerable\":true,\"customPriceAlertConfidence\":\"HIGH\",\"messageBoardId\":\"finmb_22247\",\"exchangeTimezoneName\":\"America/New_York\",\"exchangeTimezoneShortName\":\"EST\",\"gmtOffSetMilliseconds\":-18000000,\"market\":\"us_market\",\"esgPopulated\":false,\"currency\":\"USD\",\"exchange\":\"NYQ\",\"shortName\":\"Oracle Corporation\",\"longName\":\"Oracle Corporation\",\"regularMarketChangePercent\":1.9114939,\"regularMarketPrice\":87.97,\"marketState\":\"REGULAR\",\"financialCurrency\":\"USD\",\"regularMarketOpen\":87.15,\"averageDailyVolume3Month\":7044930,\"averageDailyVolume10Day\":5871960,\"fiftyTwoWeekLowChange\":27.190002,\"fiftyTwoWeekLowChangePercent\":0.44735116,\"fiftyTwoWeekRange\":\"60.78 - 91.22\",\"fiftyTwoWeekHighChange\":-3.25,\"fiftyTwoWeekHighChangePercent\":-0.03562815,\"fiftyTwoWeekLow\":60.78,\"fiftyTwoWeekHigh\":91.22,\"dividendDate\":1674518400,\"earningsTimestamp\":1670889600,\"earningsTimestampStart\":1678273140,\"earningsTimestampEnd\":1678708800,\"trailingAnnualDividendRate\":1.28,\"trailingPE\":27.663523,\"trailingAnnualDividendYield\":0.014828545,\"epsTrailingTwelveMonths\":3.18,\"epsForward\":5.57,\"epsCurrentYear\":4.91,\"priceEpsCurrentYear\":17.916498,\"sharesOutstanding\":2696250112,\"bookValue\":-1.576,\"fiftyDayAverage\":85.6236,\"fiftyDayAverageChange\":2.346405,\"fiftyDayAverageChangePercent\":0.02740372,\"twoHundredDayAverage\":76.02195,\"twoHundredDayAverageChange\":11.948051,\"twoHundredDayAverageChangePercent\":0.15716581,\"marketCap\":237189120000,\"forwardPE\":15.793536,\"priceToBook\":-55.81853,\"sourceInterval\":15,\"exchangeDataDelayedBy\":0,\"averageAnalystRating\":\"2.6 - Hold\",\"tradeable\":false,\"cryptoTradeable\":false,\"firstTradeDateMilliseconds\":511021800000,\"priceHint\":2,\"regularMarketChange\":1.6500015,\"regularMarketTime\":1677170416,\"regularMarketDayHigh\":89.4701,\"regularMarketDayRange\":\"87.09 - 89.4701\",\"regularMarketDayLow\":87.09,\"regularMarketVolume\":3886236,\"regularMarketPreviousClose\":86.32,\"bid\":87.91,\"ask\":87.9,\"bidSize\":8,\"askSize\":9,\"fullExchangeName\":\"NYSE\",\"displayName\":\"Oracle\",\"symbol\":\"ORCL\"}],\"error\":null}}\n"
     ]
    }
   ],
   "source": [
    "apikey=\"YOUR KEY HERE\"\n",
    "\n",
    "url = \"https://yfapi.net/v6/finance/quote\"\n",
    "\n",
    "querystring = {\"symbols\":stock}\n",
    "\n",
    "headers = {\n",
    "    'x-api-key': apikey\n",
    "    }\n",
    "\n",
    "response = requests.request(\"GET\", url, headers=headers, params=querystring)\n",
    "\n",
    "print(response.text)\n"
   ]
  },
  {
   "cell_type": "markdown",
   "id": "caf2e9c8-36c7-4fb2-8426-733c24d13c92",
   "metadata": {},
   "source": [
    "\n",
    "\n",
    "stock_json = response.json()\n",
    "print(stock_json['quoteResponse']['result'][0][\"displayName\"] + \" Price:$\" + str(stock_json['quoteResponse']['result'][0][\"regularMarketPrice\"]))"
   ]
  },
  {
   "cell_type": "code",
   "execution_count": 9,
   "id": "dd900693-c177-4b85-9e66-461e777b25d5",
   "metadata": {},
   "outputs": [
    {
     "name": "stdout",
     "output_type": "stream",
     "text": [
      "Oracle Price:$87.97\n"
     ]
    }
   ],
   "source": [
    "stock_json = response.json() \n",
    "print(stock_json['quoteResponse']['result'][0][\"displayName\"] + \" Price:$\" + str(stock_json['quoteResponse']['result'][0][\"regularMarketPrice\"]))"
   ]
  },
  {
   "cell_type": "code",
   "execution_count": null,
   "id": "ecb7e87d-51f0-4888-9e11-4ebc5cadb798",
   "metadata": {},
   "outputs": [],
   "source": []
  }
 ],
 "metadata": {
  "kernelspec": {
   "display_name": "Python 3 (ipykernel)",
   "language": "python",
   "name": "python3"
  },
  "language_info": {
   "codemirror_mode": {
    "name": "ipython",
    "version": 3
   },
   "file_extension": ".py",
   "mimetype": "text/x-python",
   "name": "python",
   "nbconvert_exporter": "python",
   "pygments_lexer": "ipython3",
   "version": "3.8.13"
  }
 },
 "nbformat": 4,
 "nbformat_minor": 5
}
